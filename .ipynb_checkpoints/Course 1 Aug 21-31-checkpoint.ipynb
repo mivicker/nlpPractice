{
 "cells": [
  {
   "cell_type": "code",
   "execution_count": 899,
   "metadata": {},
   "outputs": [],
   "source": [
    "import numpy as np\n",
    "import timeit\n",
    "import matplotlib.pyplot as plt\n",
    "from scipy.stats import mode"
   ]
  },
  {
   "cell_type": "code",
   "execution_count": 815,
   "metadata": {},
   "outputs": [],
   "source": [
    "def l1distance(xTe, xTr = None):\n",
    "    if xTr is None:\n",
    "        xTr = xTe;\n",
    "    \n",
    "    dist = np.sum(np.abs(xTe[np.newaxis,:,:] - xTr[:,np.newaxis,:]), axis = -1)\n",
    "    \n",
    "    return dist"
   ]
  },
  {
   "cell_type": "code",
   "execution_count": 868,
   "metadata": {},
   "outputs": [
    {
     "name": "stdout",
     "output_type": "stream",
     "text": [
      "Matrix A\n",
      "[[8 1]\n",
      " [9 1]\n",
      " [4 3]\n",
      " [3 8]\n",
      " [6 5]\n",
      " [2 1]]\n",
      "Matrix B\n",
      "[[3 5]\n",
      " [5 1]\n",
      " [2 9]\n",
      " [8 8]\n",
      " [6 0]\n",
      " [7 4]\n",
      " [4 4]\n",
      " [9 5]\n",
      " [0 0]\n",
      " [5 2]]\n"
     ]
    }
   ],
   "source": [
    "A = np.random.randint(10, size = (6,2))\n",
    "B = np.random.randint(10, size = (10,2))\n",
    "print(\"Matrix A\")\n",
    "print(A)\n",
    "print(\"Matrix B\")\n",
    "print(B)"
   ]
  },
  {
   "cell_type": "code",
   "execution_count": 869,
   "metadata": {},
   "outputs": [
    {
     "data": {
      "image/png": "[encoded data removed]",
      "text/plain": [
       "<Figure size 432x288 with 1 Axes>"
      ]
     },
     "metadata": {},
     "output_type": "display_data"
    }
   ],
   "source": [
    "%matplotlib inline\n",
    "import matplotlib.pyplot as plt\n",
    "import seaborn; seaborn.set() # Plot styling\n",
    "plt.scatter(A[:,0], A[:,1], s=100);\n",
    "plt.scatter(B[:,0], B[:,1], s=100);"
   ]
  },
  {
   "cell_type": "code",
   "execution_count": 870,
   "metadata": {},
   "outputs": [
    {
     "name": "stdout",
     "output_type": "stream",
     "text": [
      "Distance Matrix\n",
      "[[ 9 10  3  3  3  5]\n",
      " [ 3  4  3  9  5  3]\n",
      " [14 15  8  2  8  8]\n",
      " [ 7  8  9  5  5 13]\n",
      " [ 3  4  5 11  5  5]\n",
      " [ 4  5  4  8  2  8]\n",
      " [ 7  8  1  5  3  5]\n",
      " [ 5  4  7  9  3 11]\n",
      " [ 9 10  7 11 11  3]\n",
      " [ 4  5  2  8  4  4]]\n"
     ]
    }
   ],
   "source": [
    "dist = l1distance(A, B)\n",
    "print(\"Distance Matrix\")\n",
    "print(dist)"
   ]
  },
  {
   "cell_type": "code",
   "execution_count": 871,
   "metadata": {},
   "outputs": [
    {
     "name": "stdout",
     "output_type": "stream",
     "text": [
      "Index Matrix\n",
      "[[1 1 6 2 5 1]\n",
      " [4 4 9 0 0 8]\n",
      " [5 7 0 3 6 9]\n",
      " [9 5 1 6 7 0]\n",
      " [7 9 5 5 9 4]\n",
      " [3 3 4 9 1 6]\n",
      " [6 6 7 1 3 2]\n",
      " [0 0 8 7 4 5]\n",
      " [8 8 2 4 2 7]\n",
      " [2 2 3 8 8 3]]\n"
     ]
    }
   ],
   "source": [
    "index = np.argsort(dist, 0)\n",
    "print(\"Index Matrix\")\n",
    "print(index)"
   ]
  },
  {
   "cell_type": "code",
   "execution_count": 872,
   "metadata": {},
   "outputs": [
    {
     "name": "stdout",
     "output_type": "stream",
     "text": [
      "Sorted Distance Matrix\n",
      "[[ 3  4  1  2  2  3]\n",
      " [ 3  4  2  3  3  3]\n",
      " [ 4  4  3  5  3  4]\n",
      " [ 4  5  3  5  3  5]\n",
      " [ 5  5  4  8  4  5]\n",
      " [ 7  8  5  8  5  5]\n",
      " [ 7  8  7  9  5  8]\n",
      " [ 9 10  7  9  5  8]\n",
      " [ 9 10  8 11  8 11]\n",
      " [14 15  9 11 11 13]]\n"
     ]
    }
   ],
   "source": [
    "print(\"Sorted Distance Matrix\")\n",
    "print(np.take_along_axis(dist, index, 0))"
   ]
  },
  {
   "cell_type": "code",
   "execution_count": 873,
   "metadata": {},
   "outputs": [
    {
     "name": "stdout",
     "output_type": "stream",
     "text": [
      "Original Array\n",
      "[9 5 9 9 8]\n",
      "Index Array\n",
      "[1 4 0 2 3]\n",
      "Sorted Array\n",
      "[5 8 9 9 9]\n"
     ]
    }
   ],
   "source": [
    "## Try argsort in 1D\n",
    "array = np.random.randint(10, size = (5,))\n",
    "index = np.argsort(array)\n",
    "print(\"Original Array\")\n",
    "print(array)\n",
    "print(\"Index Array\")\n",
    "print(index)\n",
    "print(\"Sorted Array\")\n",
    "print(array[index])"
   ]
  },
  {
   "cell_type": "code",
   "execution_count": 874,
   "metadata": {},
   "outputs": [],
   "source": [
    "def findl1knn(xTe, xTr, k):\n",
    "    D = l1distance(xTe, xTr)\n",
    "    I = np.argsort(D, 0)\n",
    "    \n",
    "    indices = I[:k,:]\n",
    "    dists = np.sort(D, 0)[:k,:]\n",
    "    \n",
    "    return indices, dists"
   ]
  },
  {
   "cell_type": "code",
   "execution_count": 875,
   "metadata": {},
   "outputs": [],
   "source": [
    "indices, dists = findl1knn(A, B, 3)"
   ]
  },
  {
   "cell_type": "code",
   "execution_count": 876,
   "metadata": {},
   "outputs": [
    {
     "name": "stdout",
     "output_type": "stream",
     "text": [
      "[[1 1 6 2 5 1]\n",
      " [4 4 9 0 0 8]\n",
      " [5 7 0 3 6 9]]\n"
     ]
    }
   ],
   "source": [
    "print(indices)"
   ]
  },
  {
   "cell_type": "code",
   "execution_count": 877,
   "metadata": {},
   "outputs": [
    {
     "data": {
      "text/plain": [
       "5"
      ]
     },
     "execution_count": 877,
     "metadata": {},
     "output_type": "execute_result"
    }
   ],
   "source": [
    "indices[2,0]"
   ]
  },
  {
   "cell_type": "code",
   "execution_count": 878,
   "metadata": {},
   "outputs": [
    {
     "name": "stdout",
     "output_type": "stream",
     "text": [
      "[[3 4 1 2 2 3]\n",
      " [3 4 2 3 3 3]\n",
      " [4 4 3 5 3 4]]\n"
     ]
    }
   ],
   "source": [
    "print(dists)"
   ]
  },
  {
   "cell_type": "code",
   "execution_count": 896,
   "metadata": {},
   "outputs": [
    {
     "name": "stdout",
     "output_type": "stream",
     "text": [
      "[[0 0 2 0 1 0]\n",
      " [0 0 0 2 2 1]\n",
      " [1 0 2 1 2 0]]\n"
     ]
    }
   ],
   "source": [
    "yTr = np.random.randint(3, size = (B.shape[0],1))\n",
    "yTr = yTr.flatten()\n",
    "\n",
    "kNN_labels = yTr[indices]\n",
    "\n",
    "print(kNN_labels)"
   ]
  },
  {
   "cell_type": "code",
   "execution_count": 898,
   "metadata": {},
   "outputs": [
    {
     "data": {
      "text/plain": [
       "[0, 0, 2, 0, 1, 0]"
      ]
     },
     "execution_count": 898,
     "metadata": {},
     "output_type": "execute_result"
    }
   ],
   "source": [
    "majority = lambda mx: max(mx, key = mx.count)\n",
    "\n",
    "majority([list(column) for column in kNN_labels])"
   ]
  },
  {
   "cell_type": "code",
   "execution_count": 905,
   "metadata": {},
   "outputs": [
    {
     "name": "stdout",
     "output_type": "stream",
     "text": [
      "[[0 0 2 0 2 0]]\n",
      "(1, 6)\n"
     ]
    }
   ],
   "source": [
    "m, c = mode(kNN_labels, axis=0)\n",
    "print(m)\n",
    "print(m.shape)"
   ]
  },
  {
   "cell_type": "code",
   "execution_count": 827,
   "metadata": {},
   "outputs": [],
   "source": [
    "A = np.array([1,0,0,1,0])\n",
    "B = np.array([1,0,1,1,0])"
   ]
  },
  {
   "cell_type": "code",
   "execution_count": 828,
   "metadata": {},
   "outputs": [
    {
     "data": {
      "text/plain": [
       "array([1, 0, 0, 1, 0])"
      ]
     },
     "execution_count": 828,
     "metadata": {},
     "output_type": "execute_result"
    }
   ],
   "source": [
    "A"
   ]
  },
  {
   "cell_type": "code",
   "execution_count": 830,
   "metadata": {},
   "outputs": [
    {
     "data": {
      "text/plain": [
       "array([0.8])"
      ]
     },
     "execution_count": 830,
     "metadata": {},
     "output_type": "execute_result"
    }
   ],
   "source": [
    "np.sum(A == B)/A.shape"
   ]
  },
  {
   "cell_type": "code",
   "execution_count": 832,
   "metadata": {},
   "outputs": [],
   "source": [
    "TrainX = np.random.randint(12, size = (20, 2))\n",
    "TestX = np.random.randint(12, size = (5,2))"
   ]
  },
  {
   "cell_type": "code",
   "execution_count": 833,
   "metadata": {},
   "outputs": [
    {
     "name": "stdout",
     "output_type": "stream",
     "text": [
      "[[ 5  7]\n",
      " [ 0 11]\n",
      " [ 3  4]\n",
      " [ 3  9]\n",
      " [10 10]\n",
      " [ 4  4]\n",
      " [ 2  6]\n",
      " [ 4 10]\n",
      " [ 0  3]\n",
      " [ 0  3]\n",
      " [ 3  2]\n",
      " [11  0]\n",
      " [ 5  1]\n",
      " [ 7  0]\n",
      " [ 0  3]\n",
      " [ 6  6]\n",
      " [ 9  5]\n",
      " [ 5  3]\n",
      " [ 8 10]\n",
      " [ 0  1]]\n"
     ]
    }
   ],
   "source": [
    "print(TrainX)"
   ]
  },
  {
   "cell_type": "code",
   "execution_count": 854,
   "metadata": {},
   "outputs": [
    {
     "data": {
      "text/plain": [
       "(20, 1)"
      ]
     },
     "execution_count": 854,
     "metadata": {},
     "output_type": "execute_result"
    }
   ],
   "source": [
    "TrainY = np.zeros((TrainX.shape[0]))\n",
    "TrainY = np.expand_dims(TrainY, axis = -1)\n",
    "TrainY.shape"
   ]
  },
  {
   "cell_type": "code",
   "execution_count": 855,
   "metadata": {},
   "outputs": [],
   "source": [
    "TrainY[.5 * (np.expand_dims(TrainX[:,0], axis = -1)) + np.expand_dims(TrainX[:,0], axis = -1) > 3] = 1"
   ]
  },
  {
   "cell_type": "code",
   "execution_count": 856,
   "metadata": {},
   "outputs": [
    {
     "data": {
      "text/plain": [
       "array([[1.],\n",
       "       [0.],\n",
       "       [1.],\n",
       "       [1.],\n",
       "       [1.],\n",
       "       [1.],\n",
       "       [0.],\n",
       "       [1.],\n",
       "       [0.],\n",
       "       [0.],\n",
       "       [1.],\n",
       "       [1.],\n",
       "       [1.],\n",
       "       [1.],\n",
       "       [0.],\n",
       "       [1.],\n",
       "       [1.],\n",
       "       [1.],\n",
       "       [1.],\n",
       "       [0.]])"
      ]
     },
     "execution_count": 856,
     "metadata": {},
     "output_type": "execute_result"
    }
   ],
   "source": [
    "TrainY"
   ]
  },
  {
   "cell_type": "code",
   "execution_count": null,
   "metadata": {},
   "outputs": [],
   "source": []
  }
 ],
 "metadata": {
  "kernelspec": {
   "display_name": "Python 3",
   "language": "python",
   "name": "python3"
  },
  "language_info": {
   "codemirror_mode": {
    "name": "ipython",
    "version": 3
   },
   "file_extension": ".py",
   "mimetype": "text/x-python",
   "name": "python",
   "nbconvert_exporter": "python",
   "pygments_lexer": "ipython3",
   "version": "3.7.4"
  }
 },
 "nbformat": 4,
 "nbformat_minor": 2
}
