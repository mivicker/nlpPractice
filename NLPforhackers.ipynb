{
 "cells": [
  {
   "cell_type": "code",
   "execution_count": 2,
   "metadata": {},
   "outputs": [],
   "source": [
    "from nltk.corpus import names\n",
    "from sklearn.tree import DecisionTreeClassifier"
   ]
  },
  {
   "cell_type": "code",
   "execution_count": 8,
   "metadata": {},
   "outputs": [
    {
     "name": "stdout",
     "output_type": "stream",
     "text": [
      "#sentences:8\n",
      "AMPLE SUPPLIES LIMIT U.S. STRIKE'S OIL PRICE IMPACT\n",
      "  Ample supplies of OPEC crude weighing on\n",
      "  world markets helped limit and then reverse oil price gains\n",
      "  that followed the U.S. Strike on an Iranian oil platform in the\n",
      "  Gulf earlier on Monday, analysts said. /\n",
      "December loading rose to 19.65 dlrs, up 45 cents before\n",
      "  falling to around 19.05/15 later, unchanged from last Friday. /\n",
      "\"Fundamentals are awful,\" said Philip Lambert, analyst with\n",
      "  stockbrokers Kleinwort Grieveson, adding that total OPEC\n",
      "  production in the first week of October could be above 18.5 mln\n",
      "  bpd, little changed from September levels. /\n",
      "Peter Nicol, analyst at Chase Manhattan Bank, said OPEC\n",
      "  production could be about 18.5-19.0 mln in October. /\n",
      "Reuter and\n",
      "  International Energy Agency (IEA) estimates put OPEC September\n",
      "  production at 18.5 mln bpd. /\n",
      "The U.S. /\n",
      "Attack was in retaliation of last Friday's hit of\n",
      "  a Kuwaiti oil products tanker flying the U.S. /\n",
      "Flag, the Sea\n",
      "  Isle City. /\n"
     ]
    }
   ],
   "source": [
    "import nltk\n",
    "\n",
    "sentences = nltk.sent_tokenize(reuters.raw('test/21131')[:988])\n",
    "print(f'#sentences:{len(sentences)}')\n",
    "\n",
    "for sent in sentences:\n",
    "    print(sent, '/')"
   ]
  },
  {
   "cell_type": "code",
   "execution_count": null,
   "metadata": {},
   "outputs": [],
   "source": []
  }
 ],
 "metadata": {
  "kernelspec": {
   "display_name": "Python 3",
   "language": "python",
   "name": "python3"
  },
  "language_info": {
   "codemirror_mode": {
    "name": "ipython",
    "version": 3
   },
   "file_extension": ".py",
   "mimetype": "text/x-python",
   "name": "python",
   "nbconvert_exporter": "python",
   "pygments_lexer": "ipython3",
   "version": "3.7.4"
  }
 },
 "nbformat": 4,
 "nbformat_minor": 2
}
